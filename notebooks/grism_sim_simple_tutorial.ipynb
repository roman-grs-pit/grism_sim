{
 "cells": [
  {
   "cell_type": "code",
   "execution_count": 1,
   "id": "208d09bb",
   "metadata": {},
   "outputs": [
    {
     "name": "stderr",
     "output_type": "stream",
     "text": [
      "/Users/keith/miniconda3/envs/grizli-env/lib/python3.12/site-packages/pysynphot/refs.py:117: UserWarning: No graph or component tables found; functionality will be SEVERELY crippled. No files found for /Users/keith/PYSYN_CDBS/mtab/*_tmg.fits\n",
      "  warnings.warn('No graph or component tables found; '\n",
      "/Users/keith/miniconda3/envs/grizli-env/lib/python3.12/site-packages/pysynphot/refs.py:124: UserWarning: No thermal tables found, no thermal calculations can be performed. No files found for /Users/keith/PYSYN_CDBS/mtab/*_tmt.fits\n",
      "  warnings.warn('No thermal tables found, '\n"
     ]
    },
    {
     "name": "stdout",
     "output_type": "stream",
     "text": [
      "psf_grid_data_write variable has not been set. This will cause problems if psf_grid fits do not already exist.\n"
     ]
    }
   ],
   "source": [
    "from grism_sim_psf_dependent import mk_grism\n",
    "import matplotlib.pyplot as plt\n",
    "from astropy.table import Table\n",
    "from astropy.io import fits\n",
    "import numpy as np\n",
    "import os"
   ]
  },
  {
   "cell_type": "code",
   "execution_count": null,
   "id": "1cd66092",
   "metadata": {},
   "outputs": [],
   "source": [
    "# Catalogs\n",
    "scratch = os.getenv(\"SCRATCH\")\n",
    "# stars = Table.read(os.path.join(scratch, \"data/sim_star_cat_galacticus.ecsv\"))\n",
    "stars = Table.read(\"/global/cfs/cdirs/m4943/grismsim/stars/sim_star_cat_galacticus.ecsv\")\n",
    "gals = None\n",
    "\n",
    "sel = stars[\"magnitude\"] <= 16\n",
    "stars = stars[sel]"
   ]
  },
  {
   "cell_type": "code",
   "execution_count": null,
   "id": "41b7c903",
   "metadata": {},
   "outputs": [],
   "source": [
    "# Pointing\n",
    "wfi_cen_ra = 10\n",
    "wfi_cen_dec = 0\n",
    "wfi_cen_pa = 60"
   ]
  },
  {
   "cell_type": "code",
   "execution_count": 4,
   "id": "75b56a50",
   "metadata": {},
   "outputs": [],
   "source": [
    "# SCA\n",
    "det_num = 1"
   ]
  },
  {
   "cell_type": "code",
   "execution_count": null,
   "id": "f95064d5",
   "metadata": {},
   "outputs": [
    {
     "name": "stdout",
     "output_type": "stream",
     "text": [
      "checkpoint_0\n",
      "checkpoint_1\n",
      "checkpoint_2\n"
     ]
    },
    {
     "name": "stderr",
     "output_type": "stream",
     "text": [
      "WARNING: VerifyWarning: Verification reported errors: [astropy.io.fits.verify]\n",
      "WARNING: VerifyWarning: HDU 0: [astropy.io.fits.verify]\n",
      "WARNING: VerifyWarning:     NAXISj keyword out of range ('NAXIS1' when NAXIS == 0)  Deleted. [astropy.io.fits.verify]\n",
      "WARNING: VerifyWarning:     NAXISj keyword out of range ('NAXIS2' when NAXIS == 0)  Deleted. [astropy.io.fits.verify]\n",
      "WARNING: VerifyWarning: HDU 1: [astropy.io.fits.verify]\n",
      "WARNING: VerifyWarning:     'NAXIS1' card at the wrong place (card 10).  Fixed by moving it to the right place (card 3). [astropy.io.fits.verify]\n",
      "WARNING: VerifyWarning:     'NAXIS2' card at the wrong place (card 15).  Fixed by moving it to the right place (card 4). [astropy.io.fits.verify]\n",
      "WARNING: VerifyWarning: HDU 2: [astropy.io.fits.verify]\n",
      "WARNING: VerifyWarning: HDU 3: [astropy.io.fits.verify]\n",
      "WARNING: VerifyWarning: Note: astropy.io.fits uses zero-based indexing.\n",
      " [astropy.io.fits.verify]\n"
     ]
    },
    {
     "name": "stdout",
     "output_type": "stream",
     "text": [
      "checkpoint_3\n",
      "cutting stars to be on detector + padded area\n",
      "checkpoint_4\n",
      "checkpoint_5\n",
      "\n",
      "\n"
     ]
    },
    {
     "name": "stderr",
     "output_type": "stream",
     "text": [
      "WARNING: FITSFixedWarning: 'datfix' made the change 'Set MJD-OBS to 60874.000000 from DATE-OBS'. [astropy.wcs.wcs]\n",
      "WARNING: FITSFixedWarning: 'datfix' made the change 'Set MJD-OBS to 60874.000000 from DATE-OBS'. [astropy.wcs.wcs]\n"
     ]
    },
    {
     "name": "stdout",
     "output_type": "stream",
     "text": [
      "Image cutout: x=slice(0, 6088, None), y=slice(0, 6088, None) [Out of range]\n",
      "/Users/keith/astr/research_astr/SCRATCH/empty_grism_ra10_dec0_pa60_detSCA01.fits / blot reference /Users/keith/astr/research_astr/SCRATCH/refimage_ra10_dec0_pa60_detSCA01_nopad.fits[0]\n",
      "The following task in the stsci.skypac package can be run with TEAL:\n",
      "                                    skymatch                                    \n",
      "The following tasks in the drizzlepac package can be run with TEAL:\n",
      "    astrodrizzle       config_testbed      imagefindpars           mapreg       \n",
      "       photeq            pixreplace           pixtopix            pixtosky      \n",
      "  refimagefindpars       resetbits          runastrodriz          skytopix      \n",
      "     tweakback            tweakreg           updatenpol\n",
      "Using default C-based coordinate transformation...\n",
      "checkpoint_6\n",
      "starting at 10000.0\n",
      "adding stars to model\n",
      "starting at 10500.0\n",
      "adding stars to model\n",
      "ID 9 not found in segmentation image\n",
      "ID 13 not found in segmentation image\n",
      "starting at 11000.0\n",
      "adding stars to model\n",
      "ID 9 not found in segmentation image\n",
      "ID 13 not found in segmentation image\n",
      "starting at 11500.0\n",
      "adding stars to model\n",
      "ID 9 not found in segmentation image\n",
      "ID 13 not found in segmentation image\n",
      "starting at 12000.0\n",
      "adding stars to model\n",
      "ID 9 not found in segmentation image\n",
      "ID 13 not found in segmentation image\n",
      "starting at 12500.0\n",
      "adding stars to model\n",
      "ID 9 not found in segmentation image\n",
      "ID 13 not found in segmentation image\n",
      "starting at 13000.0\n",
      "adding stars to model\n",
      "ID 9 not found in segmentation image\n",
      "ID 13 not found in segmentation image\n",
      "starting at 13500.0\n",
      "adding stars to model\n",
      "ID 9 not found in segmentation image\n",
      "ID 13 not found in segmentation image\n",
      "starting at 14000.0\n",
      "adding stars to model\n",
      "ID 9 not found in segmentation image\n",
      "ID 13 not found in segmentation image\n",
      "starting at 14500.0\n",
      "adding stars to model\n",
      "ID 9 not found in segmentation image\n",
      "ID 13 not found in segmentation image\n",
      "starting at 15000.0\n",
      "adding stars to model\n",
      "ID 9 not found in segmentation image\n",
      "ID 13 not found in segmentation image\n",
      "starting at 15500.0\n",
      "adding stars to model\n",
      "ID 9 not found in segmentation image\n",
      "ID 13 not found in segmentation image\n",
      "starting at 16000.0\n",
      "adding stars to model\n",
      "ID 9 not found in segmentation image\n",
      "ID 13 not found in segmentation image\n",
      "starting at 16500.0\n",
      "adding stars to model\n",
      "ID 9 not found in segmentation image\n",
      "ID 13 not found in segmentation image\n",
      "starting at 17000.0\n",
      "adding stars to model\n",
      "ID 9 not found in segmentation image\n",
      "ID 13 not found in segmentation image\n",
      "starting at 17500.0\n",
      "adding stars to model\n",
      "ID 9 not found in segmentation image\n",
      "ID 13 not found in segmentation image\n",
      "starting at 18000.0\n",
      "adding stars to model\n",
      "ID 9 not found in segmentation image\n",
      "ID 13 not found in segmentation image\n",
      "starting at 18500.0\n",
      "adding stars to model\n",
      "ID 9 not found in segmentation image\n",
      "ID 13 not found in segmentation image\n",
      "starting at 19000.0\n",
      "adding stars to model\n",
      "ID 9 not found in segmentation image\n",
      "ID 13 not found in segmentation image\n",
      "starting at 19500.0\n",
      "adding stars to model\n",
      "ID 9 not found in segmentation image\n",
      "ID 13 not found in segmentation image\n",
      "checkpoint_7\n",
      "wrote to /Users/keith/astr/research_astr/SCRATCH/grism_ra10_dec0_pa60_detSCA01.fits\n",
      "checkpoint_8\n",
      "wrote to /Users/keith/astr/research_astr/SCRATCH/refimage_ra10_dec0_pa60_detSCA01.fits\n",
      "PSF_grid_load 0.20396804809570312\n",
      "star_PSF_eval 29.157572269439697\n",
      "star_placement 0.939488410949707\n",
      "star_spec_prep 0.41306567192077637\n",
      "star_grism_sim 21.815109968185425\n",
      "gal_PSF_eval 0\n",
      "gal_PSF_conv 0\n",
      "gal_placement 0\n",
      "gal_spec_prep 0\n",
      "gal_grism_sim 0\n",
      "Split 0-1:  0.0014560222625732422\n",
      "Split 1-2:  0.02230691909790039\n",
      "Split 2-3:  2.384063959121704\n",
      "Split 3-4:  0.0033750534057617188\n",
      "Split 4-5:  0.0022830963134765625\n",
      "Split 5-6:  2.277369976043701\n",
      "Split 6-7:  57.04907989501953\n",
      "Split 7-8:  1.9409472942352295\n"
     ]
    }
   ],
   "source": [
    "model = mk_grism(wfi_cen_ra=wfi_cen_ra,\n",
    "                 wfi_cen_dec=wfi_cen_dec,\n",
    "                 wfi_cen_pa=wfi_cen_pa,\n",
    "                 det_num=det_num,\n",
    "                 star_input=stars,\n",
    "                 gal_input=gals,\n",
    "                 output_dir=scratch)"
   ]
  },
  {
   "cell_type": "code",
   "execution_count": 6,
   "id": "8fef3ea7",
   "metadata": {},
   "outputs": [
    {
     "data": {
      "image/png": "[encoded data removed]",
      "text/plain": [
       "<Figure size 640x480 with 1 Axes>"
      ]
     },
     "metadata": {},
     "output_type": "display_data"
    }
   ],
   "source": [
    "with fits.open(os.path.join(scratch, \"grism_ra10_dec0_pa60_detSCA01.fits\")) as f:\n",
    "    m = f[4].data\n",
    "    plt.imshow(m, cmap=\"hot\", vmin=0, vmax=1, origin=\"lower\", interpolation=\"nearest\")\n",
    "    plt.title(np.any(m))"
   ]
  },
  {
   "cell_type": "code",
   "execution_count": 7,
   "id": "e5a1a10a",
   "metadata": {},
   "outputs": [
    {
     "data": {
      "text/plain": [
       "Text(0.5, 1.0, 'True')"
      ]
     },
     "execution_count": 7,
     "metadata": {},
     "output_type": "execute_result"
    },
    {
     "data": {
      "image/png": "[encoded data removed]",
      "text/plain": [
       "<Figure size 640x480 with 1 Axes>"
      ]
     },
     "metadata": {},
     "output_type": "display_data"
    }
   ],
   "source": [
    "plt.imshow(model, cmap=\"hot\", vmin=0, vmax=1, origin=\"lower\", interpolation=\"nearest\")\n",
    "plt.title(np.any(model))"
   ]
  }
 ],
 "metadata": {
  "kernelspec": {
   "display_name": "grizli-env",
   "language": "python",
   "name": "python3"
  },
  "language_info": {
   "codemirror_mode": {
    "name": "ipython",
    "version": 3
   },
   "file_extension": ".py",
   "mimetype": "text/x-python",
   "name": "python",
   "nbconvert_exporter": "python",
   "pygments_lexer": "ipython3",
   "version": "3.12.3"
  }
 },
 "nbformat": 4,
 "nbformat_minor": 5
}
