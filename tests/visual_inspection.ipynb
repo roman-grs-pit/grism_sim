{
 "cells": [
  {
   "cell_type": "code",
   "execution_count": null,
   "id": "8b4836ac",
   "metadata": {},
   "outputs": [],
   "source": [
    "from IPython.display import display, Image\n",
    "import matplotlib as mpl\n",
    "import matplotlib.pyplot as plt\n",
    "from astropy.table import Table\n",
    "from astropy.io import fits\n",
    "import numpy as np\n",
    "import scipy as sp\n",
    "import os\n",
    "import subprocess"
   ]
  },
  {
   "cell_type": "code",
   "execution_count": null,
   "id": "edbd3728",
   "metadata": {},
   "outputs": [],
   "source": [
    "mpl.rcParams[\"figure.figsize\"] = [30, 30]\n",
    "mpl.rcParams[\"image.interpolation\"] = \"nearest\"\n",
    "mpl.rcParams[\"image.cmap\"] = \"hot\"\n",
    "mpl.rcParams[\"image.origin\"] = \"lower\""
   ]
  },
  {
   "cell_type": "code",
   "execution_count": null,
   "id": "58fd30cd",
   "metadata": {},
   "outputs": [],
   "source": [
    "# outdir = os.path.join(os.getenv(\"SCRATCH\"), \"tests\")\n",
    "outdir = os.path.join(\"/global/cfs/cdirs/m4943/grismsim/visual_inspection\")\n",
    "baseline_tag = \"v0.0.1-22-gfe96f98\""
   ]
  },
  {
   "cell_type": "code",
   "execution_count": null,
   "id": "0c238359",
   "metadata": {},
   "outputs": [],
   "source": [
    "wfi_cen_ra = 10\n",
    "wfi_cen_dec = 10\n",
    "wfi_cen_pa = 60"
   ]
  },
  {
   "cell_type": "code",
   "execution_count": null,
   "id": "c0407b0a",
   "metadata": {},
   "outputs": [],
   "source": [
    "def parse_times(f, tag, det):\n",
    "    times = {\"tag\": tag,\n",
    "             \"det\": det}\n",
    "    \n",
    "    meta = [\"NStars\", \"NGals\", \"NPSFs\"]\n",
    "\n",
    "    for line in f.readlines():\n",
    "        for m in meta:\n",
    "            if m in line:\n",
    "                times[m] = line.split(\":\")[1].strip()\n",
    "\n",
    "        if line.startswith(\"Split\"):\n",
    "            key, val = line.split(\":\")\n",
    "            times[key] = val.strip()\n",
    "        \n",
    "        elif len(kv := line.split(\"-\")) == 2:\n",
    "            times[kv[0].strip()] = kv[1].strip()\n",
    "\n",
    "    return times          "
   ]
  },
  {
   "cell_type": "code",
   "execution_count": null,
   "id": "128bd357",
   "metadata": {},
   "outputs": [],
   "source": [
    "tag_list = [baseline_tag, subprocess.check_output(\"git describe --tags\", shell=True).decode().strip()]\n",
    "\n",
    "fn_dict = {\n",
    "    tag:\n",
    "    {\n",
    "        f\"SCA{det_num:02}\":\n",
    "        {\n",
    "            \"grism\": f\"grism_ra{wfi_cen_ra}_dec{wfi_cen_dec}_pa{wfi_cen_pa}_detSCA{det_num:02}_{tag}.fits\",\n",
    "            \"refimage\": f\"refimage_ra{wfi_cen_ra}_dec{wfi_cen_dec}_pa{wfi_cen_pa}_detSCA{det_num:02}_{tag}.fits\",\n",
    "            \"timings\": f\"timings_for_grism_ra{wfi_cen_ra}_dec{wfi_cen_dec}_pa{wfi_cen_pa}_detSCA{det_num:02}_{tag}.txt\"\n",
    "        }\n",
    "        for det_num in range(1, 19)\n",
    "    }\n",
    "    for tag in tag_list\n",
    "}"
   ]
  },
  {
   "cell_type": "code",
   "execution_count": null,
   "id": "b3657aef",
   "metadata": {},
   "outputs": [],
   "source": [
    "for _, tag_fns in fn_dict.items():\n",
    "    for _, det_fn in tag_fns.items():\n",
    "        assert os.path.exists(os.path.join(outdir, det_fn[\"grism\"])), f\"{det_fn[\"grism\"]} not found in {outdir}\"\n",
    "        assert os.path.exists(os.path.join(outdir, det_fn[\"refimage\"])), f\"{det_fn[\"refimage\"]} not found in {outdir}\"\n",
    "        assert os.path.exists(os.path.join(outdir, det_fn[\"timings\"])), f\"{det_fn[\"timings\"]} not found in {outdir}\""
   ]
  },
  {
   "cell_type": "code",
   "execution_count": null,
   "id": "3d975406",
   "metadata": {},
   "outputs": [],
   "source": [
    "fig, ax = plt.subplots(18, 6, figsize=(40, 100), constrained_layout=True)\n",
    "\n",
    "for jj, (tag, tag_fns) in enumerate(fn_dict.items()):\n",
    "    jj *= 3\n",
    "    for det, det_fn in tag_fns.items():\n",
    "\n",
    "        ii = int(det[3:]) - 1\n",
    "\n",
    "        if ii == 0:\n",
    "            ax[ii][1 + jj].text(0.5, 1.075, tag, transform=ax[ii][1 + jj].transAxes, ha=\"center\", va=\"bottom\", fontsize=14)\n",
    "\n",
    "        with fits.open(os.path.join(outdir, det_fn[\"grism\"])) as f:\n",
    "            ax[ii][0 + jj].imshow(f[\"SCI\"].data, vmin=0, vmax=1)\n",
    "            ax[ii][0 + jj].set_title(det)\n",
    "            ax[ii][1 + jj].imshow(f[\"model\"].data, vmin=0, vmax=0.25)\n",
    "            ax[ii][1 + jj].set_title(det)\n",
    "\n",
    "        with fits.open(os.path.join(outdir, det_fn[\"refimage\"])) as f:\n",
    "            ax[ii][2 + jj].imshow(f[\"IMAGE\"].data, vmin=0, vmax=1)\n",
    "            ax[ii][2 + jj].set_title(det)"
   ]
  },
  {
   "cell_type": "code",
   "execution_count": null,
   "id": "9beb03d9",
   "metadata": {},
   "outputs": [],
   "source": [
    "for tag in tag_list:\n",
    "    display(Image(filename=os.path.join(outdir, f\"{tag}_footprint.png\")))"
   ]
  },
  {
   "cell_type": "code",
   "execution_count": null,
   "id": "aa5712fe",
   "metadata": {},
   "outputs": [],
   "source": [
    "img_list = []\n",
    "fig, ax = plt.subplots(18, 6, figsize=(30, 35), constrained_layout=True)\n",
    "\n",
    "for jj, (tag, tag_fns) in enumerate(fn_dict.items()):\n",
    "    jj *= 3\n",
    "\n",
    "    for det, det_fn in tag_fns.items():\n",
    "        temp_dict = {}\n",
    "        temp_dict[\"tag\"] = tag\n",
    "        temp_dict[\"det\"] = det\n",
    "\n",
    "        ii = int(det[3:]) - 1\n",
    "\n",
    "        if ii == 0:\n",
    "            ax[ii][1 + jj].text(0.5, 1.25, tag, transform=ax[ii][1 + jj].transAxes, ha=\"center\", va=\"bottom\", fontsize=12)\n",
    "\n",
    "        with fits.open(os.path.join(outdir, det_fn[\"grism\"])) as f:\n",
    "            data = f[\"SCI\"].data.ravel()\n",
    "            sel = data > 0\n",
    "            temp_dict[\"SCI\"] = data[sel]\n",
    "            \n",
    "            ax[ii][0 + jj].hist(data, bins=1000)\n",
    "            ax[ii][0 + jj].set_xlim(0, 1)\n",
    "            ax[ii][0 + jj].set_title(det)\n",
    "\n",
    "            data = f[\"model\"].data.ravel()\n",
    "            sel = data > 0\n",
    "            temp_dict[\"model\"] = data[sel]\n",
    "\n",
    "            sel &= data < 0.1\n",
    "            data = data[sel]\n",
    "\n",
    "            ax[ii][1 + jj].hist(data, bins=100)\n",
    "            ax[ii][1 + jj].set_xlim(0, 0.05)\n",
    "            ax[ii][1 + jj].set_title(det)\n",
    "\n",
    "        with fits.open(os.path.join(outdir, det_fn[\"refimage\"])) as f:\n",
    "            data = f[\"IMAGE\"].data.ravel()\n",
    "            sel = data > 0\n",
    "            temp_dict[\"IMAGE\"] = data[sel]\n",
    "\n",
    "            sel &= data < 0.2\n",
    "            data = data[sel]\n",
    "            \n",
    "            ax[ii][2 + jj].hist(data, bins=100)\n",
    "            ax[ii][2 + jj].set_xlim(0, 0.1)\n",
    "            ax[ii][2 + jj].set_title(det)\n",
    "        \n",
    "    img_list.append(temp_dict)\n",
    "\n",
    "plt.show()"
   ]
  },
  {
   "cell_type": "code",
   "execution_count": null,
   "id": "78620e91",
   "metadata": {},
   "outputs": [],
   "source": [
    "img_keys = [\"SCI\", \"model\", \"IMAGE\"]\n",
    "\n",
    "img_tbl = Table(img_list)\n",
    "\n",
    "for tag in tag_list:\n",
    "    sel = img_tbl[\"tag\"] == tag\n",
    "    temp_table = img_tbl[sel]\n",
    "    print(\"\\033[0;36m\" + tag)\n",
    "    print(\"-----------\" + \"\\033[0m\")\n",
    "    for key in img_keys:\n",
    "        data = np.array(temp_table[key][0], dtype=np.float64)\n",
    "        description = sp.stats.describe(data)\n",
    "\n",
    "        print(key, \"NObs\", description.nobs)\n",
    "        print(key, \"min/max\", description.minmax)\n",
    "        print(key, \"mean\", description.mean)\n",
    "        print(key, \"variance\", description.variance)\n",
    "        print(\"-----------\")"
   ]
  },
  {
   "cell_type": "code",
   "execution_count": null,
   "id": "4825e9a3",
   "metadata": {},
   "outputs": [],
   "source": [
    "times = []\n",
    "for tag, tag_fns in fn_dict.items():\n",
    "    for det, det_fn in tag_fns.items():\n",
    "        with open(os.path.join(outdir, det_fn[\"timings\"])) as f:\n",
    "            times.append(parse_times(f, tag, det))\n",
    "\n",
    "timing_table = Table(times)\n",
    "timing_table"
   ]
  },
  {
   "cell_type": "code",
   "execution_count": null,
   "id": "807a0cf1",
   "metadata": {},
   "outputs": [],
   "source": [
    "time_keys = [\"Split 0-1\", \"Split 1-2\", \"Split 2-3\", \"Split 3-4\", \"Split 4-5\", \"Split 5-6\", \"Split 6-7\", \"Split 7-8\", \n",
    "             \"PSF_grid_load\", \"star_PSF_eval\", \"star_placement\", \"star_spec_prep\", \"star_grism_sim\", \"gal_PSF_eval\", \n",
    "             \"gal_PSF_conv\", \"gal_placement\", \"gal_spec_prep\", \"gal_grism_sim\"]\n",
    "\n",
    "for tag in tag_list:\n",
    "    sel = timing_table[\"tag\"] == tag\n",
    "    temp_table = timing_table[sel]\n",
    "    print(\"\\033[0;36m\" + tag)\n",
    "    print(\"-----------\" + \"\\033[0m\")\n",
    "    for key in time_keys:\n",
    "        data = np.array(temp_table[key], dtype=np.float64)\n",
    "        description = sp.stats.describe(data)\n",
    "\n",
    "        print(key, \"NObs\", description.nobs)\n",
    "        print(key, \"min/max\", description.minmax)\n",
    "        print(key, \"mean\", description.mean)\n",
    "        print(key, \"variance\", description.variance)\n",
    "        print(\"-----------\")"
   ]
  }
 ],
 "metadata": {
  "kernelspec": {
   "display_name": "grizli-env",
   "language": "python",
   "name": "python3"
  },
  "language_info": {
   "codemirror_mode": {
    "name": "ipython",
    "version": 3
   },
   "file_extension": ".py",
   "mimetype": "text/x-python",
   "name": "python",
   "nbconvert_exporter": "python",
   "pygments_lexer": "ipython3",
   "version": "3.12.3"
  }
 },
 "nbformat": 4,
 "nbformat_minor": 5
}
